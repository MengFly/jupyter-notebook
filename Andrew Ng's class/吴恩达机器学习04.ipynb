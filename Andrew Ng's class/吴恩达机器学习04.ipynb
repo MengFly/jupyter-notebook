{
 "cells": [
  {
   "cell_type": "markdown",
   "metadata": {},
   "source": [
    "### 减少过拟合\n",
    "\n",
    "1. 减少变量的数量\n",
    " - 人工选择适应的特征\n",
    " - 通过算法进行特征的选择\n",
    " \n",
    "2. 正则化\n",
    " - Keep all the features, but reduce magnitude/values of paramters $\\theta_j$\n",
    " - Works well when we have a lot of features, each of which contributes a bit to predicting y.\n",
    "\n"
   ]
  },
  {
   "cell_type": "markdown",
   "metadata": {},
   "source": [
    "### 正则化\n",
    "\n",
    "Small values for paramters $\\theta_0, \\theta_1, \\cdots, \\theta_n$\n",
    " - \"Simpler\" hypothesis\n",
    " - Less prone to overfitting\n",
    " \n",
    "(参数越小，得到的拟合函数就越平滑)\n",
    "\n",
    "添加正则化后的优化的成本函数为：\n",
    "$$J(\\theta) = \\frac{1}{2}\\sum_{i=1}^{m}[Cost(x)+ \\lambda \\theta_j^2]$$\n",
    "\n",
    "如果使用直接计算得出 $\\theta$ 的 方式，添加正则化的话，公式应该是这样：\n",
    "\n",
    "$$\\theta = ({x^Tx + \\lambda \\begin{bmatrix}\n",
    "0      &   0    &   0    & \\cdots &  0  \\\\\n",
    "0      &   1    &   0    & \\cdots &  0  \\\\\n",
    "0      &   0    &   1    & \\cdots &  0  \\\\\n",
    "\\vdots & \\vdots & \\vdots & \\ddots &  0  \\\\\n",
    "0      &   0    &   0    & \\cdots &  1\n",
    "\\end{bmatrix}})^{-1}x^Ty$$"
   ]
  }
 ],
 "metadata": {
  "kernelspec": {
   "display_name": "Python 3",
   "language": "python",
   "name": "python3"
  },
  "language_info": {
   "codemirror_mode": {
    "name": "ipython",
    "version": 3
   },
   "file_extension": ".py",
   "mimetype": "text/x-python",
   "name": "python",
   "nbconvert_exporter": "python",
   "pygments_lexer": "ipython3",
   "version": "3.6.5"
  }
 },
 "nbformat": 4,
 "nbformat_minor": 2
}
