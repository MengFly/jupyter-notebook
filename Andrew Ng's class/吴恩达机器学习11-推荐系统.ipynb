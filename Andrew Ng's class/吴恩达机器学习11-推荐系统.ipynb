{
 "cells": [
  {
   "cell_type": "markdown",
   "metadata": {},
   "source": [
    "### 推荐系统\n",
    "\n",
    "\n",
    "#### 基于内容的推荐算法\n",
    "\n",
    "\n",
    "算法内容如下：\n",
    "1. 对于每一部电影，我们都用一个特征向量去表示，比如这个电影属于哪一种类别的电影，电影有什么元素等等。\n",
    "2. 根据用户评价过的电影进行回归分析，为每一个用户得出一个参数 $\\theta$\n",
    "3. 根据这个参数去预测用户没有评分的电影可能被用户评什么分数\n",
    "\n",
    "\n",
    "这个算法有一个缺点就是，这个特征表示应该要怎么表示？如果我们没有这些特征或者不知道该怎么用特征向量表达我们的事物呢？"
   ]
  },
  {
   "cell_type": "markdown",
   "metadata": {},
   "source": [
    "#### 协同过滤\n",
    "\n",
    "协同过滤的思想正好和上面的内容算法想法，它的设想是如果我们知道用户的参数，我们就可以推出电影的特征。它们两个分别的目标以及优化函数如下：\n",
    "\n",
    "1. 内容推荐算法\n",
    "\n",
    "    Given $x^{(1)}, \\cdots, x^{(n_m)}$ estimate $\\theta^{(1)}, \\cdots, \\theta^{(n_u)}$\n",
    "    \n",
    "    $$minimize_{\\theta^{(1)}, \\cdots, \\theta^{(n_u)}} = \\frac{1}{2}\\sum_{j=1}^{n_u}\\sum_{i:r(i,j)=1}((\\theta^{(j)})^Tx^{(i)} - y^{(i,j)})^2 + \\frac{\\lambda}{2}\\sum_{j=1}^{n_u}\\sum_{k=1}^{n}(\\theta_k^{(j)})^2$$\n",
    "    \n",
    "2. 协同过滤\n",
    "    \n",
    "    Given $\\theta^{(1)}, \\dots, \\theta^{(n_u)}$, estimate $x^{(1)}, \\cdots, x^{(n_m)}$\n",
    "    \n",
    "    $$minimize_{x^{(1)}, \\cdots, x^{(n_m)}} = \\frac{1}{2}\\sum_{i=1}^{n_m}\\sum_{j:r(i,j)=1}((\\theta^{(j)})^Tx^{(i)}-y^{(i, j)})^2 + \\frac{\\lambda}{2}\\sum_{i=1}^{n_m}\\sum_{k=1}^n(x_k^{(i)})^2$$\n",
    "\n",
    "3. 结合两种算法\n",
    "    结合两种算法，即：\n",
    "    $$J(x^{(1)}, \\cdots, x^{(n_m)}, \\theta^{(1)}, \\cdots, \\theta^{(n_u)}) = \\frac{1}{2}\\sum_{i=1}^{n_m}\\sum_{j:r(i,j)=1}((\\theta^{(j)})^Tx^{(i)}-y^{(i, j)})^2 + \\frac{\\lambda}{2}\\sum_{j=1}^{n_u}\\sum_{k=1}^{n}(\\theta_k^{(j)})^2 + \\frac{\\lambda}{2}\\sum_{i=1}^{n_m}\\sum_{k=1}^n(x_k^{(i)})^2$$\n",
    "\n",
    "我们期望通过优化 J 从而达到同时求出 $x, \\theta$ 使得函数收敛。"
   ]
  },
  {
   "cell_type": "code",
   "execution_count": null,
   "metadata": {},
   "outputs": [],
   "source": []
  },
  {
   "cell_type": "markdown",
   "metadata": {},
   "source": [
    "#### 算法步骤\n",
    "\n",
    "1. Initialize $x^{(1)},...,x^{(n_m)}, \\theta^{(1)},...,\\theta^{(n_u)}$ to small random values.\n",
    "2. Minimize $J(x^{(1)},...,x^{(n_m)}, \\theta^{(1)},...,\\theta^{(n_u)})$ using gradient descent(or an advanced optimization algorithm). E.g for every $j = 1, ..., n_u, i=1,...,n_m$:\n",
    "\n",
    "$$x_k^{(i)} := x_k^{(i)} - \\alpha(\\sum_{j:r(i,j)=1}((\\theta^{(j)})^Tx^{(i)} - y^{(i,j)})\\theta_k^{j} + \\lambda x_k^{i}) \\\\ \\theta_k^{(j)} := \\theta_k^{(j)} - \\alpha (\\sum_{i:r(i,j)=1}((\\theta^{(j)})^Tx^{(i)} - y^{(i, j)})x_k^{(i)} + \\lambda \\theta_k^{(j)})$$"
   ]
  },
  {
   "cell_type": "markdown",
   "metadata": {},
   "source": [
    "#### 判断相似性\n",
    "\n",
    "在数据集上面训练好参数后，怎么判断两部电影是否相似呢？\n",
    "\n",
    "训练好参数后，对于每一部电影都会有一个特征向量来表示电影，这个特征向量是通过模型训练得到的，我们可能并不知道这些特征究竟代表着什么，或许是我们知道的特征，也或许是我们不知道的特征，但这并不会影响我们对它的使用。\n",
    "\n",
    "假如对于每一部电影都有n个特征，那么对于每一步电影在训练后都会得到一个特征向量，即 $x^{(i)} = \\begin{bmatrix}x^{(i)}_1 \\\\ x^{(i)}_2 \\\\ \\vdots \\\\ x^{(i)}_n \\end{bmatrix}$\n",
    "\n",
    "因此，可以根据这个特征向量来判断两个电影是否相似，即它们的距离 $\\|x^{(i)} - x^{(j)}\\|$"
   ]
  },
  {
   "cell_type": "markdown",
   "metadata": {},
   "source": [
    "#### 新用户判断\n",
    "\n",
    "对于新用户来说，首先由于他对所有电影都没有进行评分，因此对于优化项里面的 $r(i, j)=1$ 都不满足，因此，它的参数优化就只剩下了一个优化项，即 $\\frac{\\lambda}{2}\\sum_{j=1}^{n_u}\\sum_{k=1}^{n}(\\theta_k^{(j)})^2$ 因此，会倾向于得到 $\\theta_{j_{new}} = 0$ 也就是说，他的所有评分都将会是零。这个不是我们期望得到的。（我们期望能利用以往的某些用户对影片的评分，因为很显然，对于大多数用户评分较高的影片来说，他理应应该有更高的分数。）\n",
    "\n",
    "对于上面的问题，再回顾一下推荐系统的流程。它是根据用户对影片的评分集合假如有$n_u$个用户，$n_m$个电影，因此评分矩阵为 $\\mathbb{R}^{n_m \\times n_u}$。来训练的到：\n",
    "1. 影片的特征集合：$X = \\begin{bmatrix} - {x^{(1)}}^T - \\\\ - {x^{(2)}}^T - \\\\ \\vdots \\\\ - {x^{(n_m)}}^T - \\end{bmatrix} \\in \\mathbb{R}^{n_m \\times n}$, 其中，$x^{(i)} = \\begin{bmatrix}x^{(i)}_1 \\\\ x^{(i)}_2 \\\\ \\vdots \\\\ x^{(i)}_n \\end{bmatrix}$\n",
    "\n",
    "2. 用户的参数集合：$\\Theta = \\begin{bmatrix} -{\\theta^{(1)}}^T- \\\\ -{\\theta^{(2)}}^T- \\\\ \\vdots \\\\ -{\\theta^{(n_u)}}^T- \\end{bmatrix} \\in \\mathbb{R}^{n_u \\times n}$, 其中，$\\theta^{(j)} = \\begin{bmatrix}\\theta^{(j)}_1 \\\\ \\theta^{(j)}_2 \\\\ \\vdots \\\\ \\theta^{(j)}_n \\end{bmatrix}$\n",
    "\n",
    "3. 最终的预测矩阵 $Y = X\\Theta^T \\in \\mathbb{R}^{n_m \\times n_u}$\n",
    "\n",
    "因此，用户 i 对影片 j预测的喜好程度为： $Y^{i, j} = x^{i}{\\theta^{j}}^T$\n",
    "\n",
    "\n",
    "因此，再来看新用户，要想让以往的用户评价也能起到作用，这个时候就应该在原有的评分矩阵上面做文章，对于每一部电影，我们都能都得到他的评分的均值，即 $u_j = mean\\{Y^{i,j} | r(i,j) = 1\\}$, 其实就是历史评分的均值。这样，将每一部影片的评分全部替换成 $Y^{i,j} = Y^{i,j} - \\mu_j$, 在进行预测的时候，会得到 $\\hat{Y}^{i,j}$, 这个时候再做一次运算就可以得到原始评分值了$\\hat{Y}^{i,j} = \\hat{Y}^{i,j} + \\mu_j$。这样的话，新用户的评分就不会全是0了，即便通过模型预测的所有值都是0，他对所有电影的评分也会是 $[\\mu_1, \\mu_2, ..., \\mu_{n_m}]$"
   ]
  }
 ],
 "metadata": {
  "kernelspec": {
   "display_name": "Python 3",
   "language": "python",
   "name": "python3"
  },
  "language_info": {
   "codemirror_mode": {
    "name": "ipython",
    "version": 3
   },
   "file_extension": ".py",
   "mimetype": "text/x-python",
   "name": "python",
   "nbconvert_exporter": "python",
   "pygments_lexer": "ipython3",
   "version": "3.6.5"
  }
 },
 "nbformat": 4,
 "nbformat_minor": 2
}
