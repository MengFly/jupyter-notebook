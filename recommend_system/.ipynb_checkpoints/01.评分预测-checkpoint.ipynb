{
 "cells": [
  {
   "cell_type": "markdown",
   "metadata": {},
   "source": [
    "均方根误差（RMSE）"
   ]
  },
  {
   "cell_type": "code",
   "execution_count": 3,
   "metadata": {},
   "outputs": [],
   "source": [
    "import math\n",
    "\n",
    "def rmse(records):\n",
    "    return math.sqrt(sum([(rui-pui)*(rui-pui) for u, i, rui, pui in records]) / float(len(records)))"
   ]
  },
  {
   "cell_type": "markdown",
   "metadata": {},
   "source": [
    "平均绝对误差（MAE）"
   ]
  },
  {
   "cell_type": "code",
   "execution_count": 4,
   "metadata": {},
   "outputs": [],
   "source": [
    "def mae(records):\n",
    "    return sum([abs(rui - pui) for u, i, rui, pui in records]) / float(len(records))    "
   ]
  },
  {
   "cell_type": "markdown",
   "metadata": {},
   "source": [
    "如果评分系统是基于整数建立的（即用户给的评分都是整数），那么对预测结果取整会降低MAE的误差①"
   ]
  },
  {
   "cell_type": "markdown",
   "metadata": {},
   "source": [
    "召回率和准确率"
   ]
  },
  {
   "cell_type": "code",
   "execution_count": 7,
   "metadata": {},
   "outputs": [],
   "source": [
    "def precisionRecall(test, N):\n",
    "    hit = 0\n",
    "    n_recall = 0\n",
    "    n_precision = 0\n",
    "    for user, items in test.items():\n",
    "        rank = recommend(user, N)\n",
    "        hit += len(rank & items)\n",
    "        n_recall += len(items)"
   ]
  },
  {
   "cell_type": "code",
   "execution_count": null,
   "metadata": {},
   "outputs": [],
   "source": [
    "def giniIndex(p):\n",
    "    j = 1\n",
    "    n = len(p)\n",
    "    G = 0\n",
    "    for item, weight in sorted(p.items(), key=itemgetter(1)):\n",
    "        G += (2*j-n-1)*weight\n",
    "    return G / float(n-1)"
   ]
  }
 ],
 "metadata": {
  "kernelspec": {
   "display_name": "Python 3",
   "language": "python",
   "name": "python3"
  },
  "language_info": {
   "codemirror_mode": {
    "name": "ipython",
    "version": 3
   },
   "file_extension": ".py",
   "mimetype": "text/x-python",
   "name": "python",
   "nbconvert_exporter": "python",
   "pygments_lexer": "ipython3",
   "version": "3.6.5"
  }
 },
 "nbformat": 4,
 "nbformat_minor": 2
}
