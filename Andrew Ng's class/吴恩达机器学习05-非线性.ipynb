{
 "cells": [
  {
   "cell_type": "markdown",
   "metadata": {},
   "source": [
    "### 非线性算法\n",
    "\n",
    "在之前的学习中，我们知道借用特征的多次项之间的组合可以学习非线性的决策。那么为什么还要使用其他的非线性算法？\n",
    "\n",
    "假如特征特别多呢？我没需要组合很多特征形成新的特征，而这个特征数量的增长是呈指数量级增加的。另外当特征比较多的时候，计算量也会呈指数量级增加，因此，我们需要寻求一种更有效的方法。"
   ]
  },
  {
   "cell_type": "markdown",
   "metadata": {},
   "source": [
    "#### 具有隐藏层的回归算法\n",
    "\n",
    "隐藏层，可以这样进行理解，拿第一层来看，它其实就是之前学习的线性回归模型，当然后面的激活函数给它添加了非线性，而后面的隐藏层就是把前面特征的函数进行组合回归，这个和我们之前的组合其实是有异曲同工之处的。只不过这里的特征的函数并非之前讲到多次项，而是我们的sigmoid函数。这里的组合模式也就是我们模型训练出来的，也不需要我们去手动指定。"
   ]
  },
  {
   "cell_type": "markdown",
   "metadata": {},
   "source": [
    "### 反向传播（步骤）\n",
    "1. 实现反向传播算法（得出反向传播计算公式）\n",
    "2. 通过反向传播检验公式检验 1 中实现的反向传播算法有没有问题。\n",
    "3. 应用反向传播算法实现模型学习"
   ]
  }
 ],
 "metadata": {
  "kernelspec": {
   "display_name": "Python 3",
   "language": "python",
   "name": "python3"
  },
  "language_info": {
   "codemirror_mode": {
    "name": "ipython",
    "version": 3
   },
   "file_extension": ".py",
   "mimetype": "text/x-python",
   "name": "python",
   "nbconvert_exporter": "python",
   "pygments_lexer": "ipython3",
   "version": "3.6.5"
  }
 },
 "nbformat": 4,
 "nbformat_minor": 2
}
