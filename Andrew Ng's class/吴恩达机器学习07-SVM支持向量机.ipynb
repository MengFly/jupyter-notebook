{
 "cells": [
  {
   "cell_type": "markdown",
   "metadata": {},
   "source": [
    "## SVM 支持向量机\n",
    "\n",
    "> 支持向量试图获得这样一条决策线--它和所有的样本点的间隔最大。也就是说它具有良好的分类特性。"
   ]
  },
  {
   "cell_type": "markdown",
   "metadata": {},
   "source": [
    "### 从Logistic回归开始\n",
    "\n",
    "对于Logistic回归来说\n",
    "1. 如果 y = 1, 我们想要 $h_\\theta(x) \\approx 1, \\theta^T \\gg 0$ \n",
    "2. 如果 y = 0, 我们想要 $h_\\theta(x) \\approx 0, \\theta^T \\ll 0$\n",
    "\n",
    "对于损失函数，它们二者的关系如下图：\n",
    "\n",
    "![/img/07_01.png](/img/07_01.png)\n",
    "\n",
    "图中，粉红色线条即SVM的损失函数图像，整体来看它和Logistic回归的图像还是比较相似的，但是，它会趋向于优化 z > 1 以及 z < -1。"
   ]
  },
  {
   "cell_type": "markdown",
   "metadata": {},
   "source": [
    "### 损失函数\n",
    "\n",
    "#### logistic 的损失函数\n",
    "\n",
    "$J = \\frac{1}{m}[\\sum_{i=1}^{m}y^{(i)}(-\\log{h_\\theta(x^{(i)})}) + (1-y^{(i)})(-\\log{(1-h_\\theta(x^{(i)})}))] + \\frac{\\lambda}{2m}\\sum_{j=1}^{n}\\theta_j^2$\n",
    "\n",
    "#### SVM 的损失函数\n",
    "\n",
    "$J = C \\sum_{i=1}^{m}[y^{(i)}cost_1(\\theta^Tx^{(i)}) + (1-y^{(i)})cost_0(\\theta^Tx^{(i)})] + \\frac{1}{2}\\sum_{i=1}^{n}\\theta_j^2$\n",
    "\n",
    "这里面的参数C和Logistic里面的参数$lambda$类似，我们可以吧损失函数看成两部分，一个部分是前面的整体的函数和样本点距离的优化项，另一个是后面的正则化项，我们通过调整参数进行配置两者的不同的重要程度，其实看SVM的损失函数来看，把正则化项前面的参数换到了前面，也就是说，对SVM来说，正则化项是必须的。\n",
    "另外，对于参数C来说：\n",
    "1. 如果C特别大的话，决策优化正则化的影响就会比较小，最终的出的决策模型可能就更倾向于类似Logistic模型， 另外，如果C比较大的话，对于特别的数据点，由于前面的数据点优化更有优势，所以他会被离群点影响。\n",
    "2. 如果C比较小的话，角色优化正则化的影响就会稍大一些。\n",
    "\n",
    "\n",
    "对于SVM的损失函数来说：\n",
    "\n",
    "![/img/07_02.png](/img/07_02.png)\n",
    "\n",
    "那也就是说，对于SVM决策模型来说 $\\begin{cases} 1 & if \\theta x >0\\\\ 0 & if \\theta x < 0\\end{cases}$\n",
    "\n",
    "那么，对于我们的优化目标来说，它的目的就决定了它会倾向于让决策线距离样本点有一定的距离，而不是把它们分开就可以了。"
   ]
  }
 ],
 "metadata": {
  "kernelspec": {
   "display_name": "Python 3",
   "language": "python",
   "name": "python3"
  },
  "language_info": {
   "codemirror_mode": {
    "name": "ipython",
    "version": 3
   },
   "file_extension": ".py",
   "mimetype": "text/x-python",
   "name": "python",
   "nbconvert_exporter": "python",
   "pygments_lexer": "ipython3",
   "version": "3.6.5"
  }
 },
 "nbformat": 4,
 "nbformat_minor": 2
}
