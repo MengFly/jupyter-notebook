{
 "cells": [
  {
   "cell_type": "markdown",
   "metadata": {},
   "source": [
    "## 构建机器学习系统\n",
    "\n",
    "1. 根据数据简单粗暴最快速地构建一个系统，尽管这个系统的效果不是多么的精确。\n",
    "2. 画出系统的学习曲线，看看是否存在高误差，或者高偏差等问题，以此来决定如果有更多的特征，更多的数据。\n",
    "3. 误差分析，查看被分类错的示例有没有什么共同的特征，以此来更新自己的算法。"
   ]
  },
  {
   "cell_type": "markdown",
   "metadata": {},
   "source": [
    "## 检测系统正确率\n",
    "\n",
    "很多时候系统的误差或者整体的正确率并不能显示系统的准确率情况。尤其在正例和反例不成比例的时候。这个时候就需要有一种新的量度方法。查准率和召回率。\n",
    "\n",
    "### 查准率\n",
    " $$查准率 = \\frac{正例中被正确分类的概率}{所有被分类成正例的概率}$$\n",
    " 也就是我们预测为正例的准确率。\n",
    " \n",
    "### 召回率\n",
    " $$回收率 = \\frac{正例中被正确分类的概率}{所有原本是正例的概率}$$\n",
    " 表明正例有多大的几率被识别出来。\n",
    " \n",
    " "
   ]
  }
 ],
 "metadata": {
  "kernelspec": {
   "display_name": "Python 3",
   "language": "python",
   "name": "python3"
  },
  "language_info": {
   "codemirror_mode": {
    "name": "ipython",
    "version": 3
   },
   "file_extension": ".py",
   "mimetype": "text/x-python",
   "name": "python",
   "nbconvert_exporter": "python",
   "pygments_lexer": "ipython3",
   "version": "3.6.5"
  }
 },
 "nbformat": 4,
 "nbformat_minor": 2
}
