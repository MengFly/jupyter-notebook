{
 "cells": [
  {
   "cell_type": "code",
   "execution_count": 7,
   "metadata": {},
   "outputs": [],
   "source": [
    "import tensorflow as tf\n",
    "import os"
   ]
  },
  {
   "cell_type": "code",
   "execution_count": 11,
   "metadata": {},
   "outputs": [],
   "source": [
    "fileDir = \"F:/python/tensorflow/read\"\n",
    "if not os.path.exists(fileDir):\n",
    "    os.mkdir(fileDir)"
   ]
  },
  {
   "cell_type": "code",
   "execution_count": null,
   "metadata": {},
   "outputs": [],
   "source": [
    "with tf.Session() as sess:\n",
    "    filename = ['/img/a.jpg', '/img/b.jpg', '/img/c.jpg']\n",
    "    filename_queue = tf.train.string_input_producer(filename, shuffle=True, num_epochs=5)\n",
    "    \n",
    "    reader = tf.WholeFileReader()\n",
    "    key, value = reader.read(filename_queue)\n",
    "    tf.local_variables_initializer().run()\n",
    "    \n",
    "    threads = tf.train.start_queue_runners(sess = sess)\n",
    "    i = 0\n",
    "    while True:\n",
    "        i += 1\n",
    "        image_data = sess.run(value)\n",
    "        with open(fileDir + '/test_%d.jpg' %i, 'wb') as f:\n",
    "            f.write(image_data)"
   ]
  }
 ],
 "metadata": {
  "kernelspec": {
   "display_name": "Python 3",
   "language": "python",
   "name": "python3"
  },
  "language_info": {
   "codemirror_mode": {
    "name": "ipython",
    "version": 3
   },
   "file_extension": ".py",
   "mimetype": "text/x-python",
   "name": "python",
   "nbconvert_exporter": "python",
   "pygments_lexer": "ipython3",
   "version": "3.6.5"
  }
 },
 "nbformat": 4,
 "nbformat_minor": 2
}
