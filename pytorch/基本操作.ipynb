{
 "cells": [
  {
   "cell_type": "code",
   "execution_count": 7,
   "metadata": {},
   "outputs": [],
   "source": [
    "import torch\n",
    "import numpy as np"
   ]
  },
  {
   "cell_type": "code",
   "execution_count": 2,
   "metadata": {},
   "outputs": [
    {
     "data": {
      "text/plain": [
       "tensor([1, 2, 3, 4])"
      ]
     },
     "execution_count": 2,
     "metadata": {},
     "output_type": "execute_result"
    }
   ],
   "source": [
    "torch.tensor([1,2,3,4])"
   ]
  },
  {
   "cell_type": "code",
   "execution_count": 3,
   "metadata": {},
   "outputs": [
    {
     "data": {
      "text/plain": [
       "torch.int64"
      ]
     },
     "execution_count": 3,
     "metadata": {},
     "output_type": "execute_result"
    }
   ],
   "source": [
    "torch.tensor([1,2,3,4]).dtype"
   ]
  },
  {
   "cell_type": "code",
   "execution_count": 4,
   "metadata": {},
   "outputs": [
    {
     "data": {
      "text/plain": [
       "tensor([1., 2., 3., 4.])"
      ]
     },
     "execution_count": 4,
     "metadata": {},
     "output_type": "execute_result"
    }
   ],
   "source": [
    "torch.tensor([1,2,3,4], dtype=torch.float32)"
   ]
  },
  {
   "cell_type": "code",
   "execution_count": 5,
   "metadata": {},
   "outputs": [
    {
     "data": {
      "text/plain": [
       "tensor([0, 1, 2, 3, 4, 5, 6, 7, 8, 9])"
      ]
     },
     "execution_count": 5,
     "metadata": {},
     "output_type": "execute_result"
    }
   ],
   "source": [
    "torch.tensor(range(10))"
   ]
  },
  {
   "cell_type": "code",
   "execution_count": 6,
   "metadata": {},
   "outputs": [
    {
     "data": {
      "text/plain": [
       "tensor([0., 1., 2., 3., 4., 5., 6., 7., 8., 9.], dtype=torch.float16)"
      ]
     },
     "execution_count": 6,
     "metadata": {},
     "output_type": "execute_result"
    }
   ],
   "source": [
    "torch.tensor(range(10), dtype=torch.float16)"
   ]
  },
  {
   "cell_type": "code",
   "execution_count": 8,
   "metadata": {},
   "outputs": [
    {
     "data": {
      "text/plain": [
       "tensor([1, 2, 3, 4], dtype=torch.int32)"
      ]
     },
     "execution_count": 8,
     "metadata": {},
     "output_type": "execute_result"
    }
   ],
   "source": [
    "torch.tensor(np.array([1,2,3,4]))"
   ]
  },
  {
   "cell_type": "code",
   "execution_count": 9,
   "metadata": {},
   "outputs": [
    {
     "data": {
      "text/plain": [
       "torch.float32"
      ]
     },
     "execution_count": 9,
     "metadata": {},
     "output_type": "execute_result"
    }
   ],
   "source": [
    "torch.tensor([1.,2.,3.,4.]).dtype"
   ]
  },
  {
   "cell_type": "code",
   "execution_count": 10,
   "metadata": {},
   "outputs": [
    {
     "data": {
      "text/plain": [
       "torch.float64"
      ]
     },
     "execution_count": 10,
     "metadata": {},
     "output_type": "execute_result"
    }
   ],
   "source": [
    "torch.tensor(np.array([1.,2.,3.,4.])).dtype"
   ]
  },
  {
   "cell_type": "code",
   "execution_count": 11,
   "metadata": {},
   "outputs": [
    {
     "data": {
      "text/plain": [
       "tensor([[ 0,  0, -2],\n",
       "        [ 0,  0,  0],\n",
       "        [ 1,  0, -1]], dtype=torch.int16)"
      ]
     },
     "execution_count": 11,
     "metadata": {},
     "output_type": "execute_result"
    }
   ],
   "source": [
    "torch.randn(3,3).to(torch.int16)"
   ]
  },
  {
   "cell_type": "code",
   "execution_count": 12,
   "metadata": {},
   "outputs": [
    {
     "data": {
      "text/plain": [
       "tensor([[2., 2., 0.],\n",
       "        [3., 0., 1.],\n",
       "        [2., 4., 0.]])"
      ]
     },
     "execution_count": 12,
     "metadata": {},
     "output_type": "execute_result"
    }
   ],
   "source": [
    "torch.randint(0,5, (3,3)).to(torch.float32)"
   ]
  },
  {
   "cell_type": "markdown",
   "metadata": {},
   "source": [
    "### 创建Tensor"
   ]
  },
  {
   "cell_type": "code",
   "execution_count": 13,
   "metadata": {},
   "outputs": [
    {
     "data": {
      "text/plain": [
       "tensor([[0.3085, 0.8517, 0.2527],\n",
       "        [0.9310, 0.7229, 0.8430],\n",
       "        [0.3513, 0.2635, 0.0330]])"
      ]
     },
     "execution_count": 13,
     "metadata": {},
     "output_type": "execute_result"
    }
   ],
   "source": [
    "torch.rand(3,3)"
   ]
  },
  {
   "cell_type": "code",
   "execution_count": 14,
   "metadata": {},
   "outputs": [
    {
     "data": {
      "text/plain": [
       "tensor([[[ 0.5299, -1.7209,  0.7123,  0.2612],\n",
       "         [ 0.2278,  0.1703, -1.1869, -0.3853],\n",
       "         [-0.7147, -1.0901, -1.2255, -1.0276]],\n",
       "\n",
       "        [[-0.0559,  0.6787, -0.4318, -0.1317],\n",
       "         [ 1.4925, -0.5031, -0.1724,  0.1817],\n",
       "         [-0.6764, -1.4174,  0.2022,  1.1303]]])"
      ]
     },
     "execution_count": 14,
     "metadata": {},
     "output_type": "execute_result"
    }
   ],
   "source": [
    "torch.randn(2,3,4)"
   ]
  },
  {
   "cell_type": "code",
   "execution_count": 15,
   "metadata": {},
   "outputs": [
    {
     "data": {
      "text/plain": [
       "tensor([[[0., 0.],\n",
       "         [0., 0.]],\n",
       "\n",
       "        [[0., 0.],\n",
       "         [0., 0.]]])"
      ]
     },
     "execution_count": 15,
     "metadata": {},
     "output_type": "execute_result"
    }
   ],
   "source": [
    "torch.zeros(2,2,2)"
   ]
  },
  {
   "cell_type": "code",
   "execution_count": 16,
   "metadata": {},
   "outputs": [
    {
     "data": {
      "text/plain": [
       "tensor([[[1., 1., 1.],\n",
       "         [1., 1., 1.]]])"
      ]
     },
     "execution_count": 16,
     "metadata": {},
     "output_type": "execute_result"
    }
   ],
   "source": [
    "torch.ones(1,2,3)"
   ]
  },
  {
   "cell_type": "code",
   "execution_count": 17,
   "metadata": {},
   "outputs": [
    {
     "data": {
      "text/plain": [
       "tensor([[1., 0., 0.],\n",
       "        [0., 1., 0.],\n",
       "        [0., 0., 1.]])"
      ]
     },
     "execution_count": 17,
     "metadata": {},
     "output_type": "execute_result"
    }
   ],
   "source": [
    "torch.eye(3)"
   ]
  },
  {
   "cell_type": "code",
   "execution_count": 18,
   "metadata": {},
   "outputs": [
    {
     "data": {
      "text/plain": [
       "tensor([[8, 7, 1],\n",
       "        [9, 6, 0],\n",
       "        [1, 9, 7]])"
      ]
     },
     "execution_count": 18,
     "metadata": {},
     "output_type": "execute_result"
    }
   ],
   "source": [
    "torch.randint(0,10, (3,3))"
   ]
  },
  {
   "cell_type": "code",
   "execution_count": 19,
   "metadata": {},
   "outputs": [],
   "source": [
    "t = torch.randn(3,4)"
   ]
  },
  {
   "cell_type": "code",
   "execution_count": 20,
   "metadata": {},
   "outputs": [
    {
     "data": {
      "text/plain": [
       "tensor([[0., 0., 0., 0.],\n",
       "        [0., 0., 0., 0.],\n",
       "        [0., 0., 0., 0.]])"
      ]
     },
     "execution_count": 20,
     "metadata": {},
     "output_type": "execute_result"
    }
   ],
   "source": [
    "torch.zeros_like(t)"
   ]
  },
  {
   "cell_type": "code",
   "execution_count": 21,
   "metadata": {},
   "outputs": [
    {
     "data": {
      "text/plain": [
       "tensor([[1., 1., 1., 1.],\n",
       "        [1., 1., 1., 1.],\n",
       "        [1., 1., 1., 1.]])"
      ]
     },
     "execution_count": 21,
     "metadata": {},
     "output_type": "execute_result"
    }
   ],
   "source": [
    "torch.ones_like(t)"
   ]
  },
  {
   "cell_type": "code",
   "execution_count": 22,
   "metadata": {},
   "outputs": [
    {
     "data": {
      "text/plain": [
       "tensor([[-1.3363, -0.2753, -1.2275,  0.0285],\n",
       "        [ 0.2190, -0.9383, -1.2391,  0.2450],\n",
       "        [-0.1102,  1.1905,  0.9408,  0.7852]])"
      ]
     },
     "execution_count": 22,
     "metadata": {},
     "output_type": "execute_result"
    }
   ],
   "source": [
    "torch.randn_like(t)"
   ]
  },
  {
   "cell_type": "code",
   "execution_count": 23,
   "metadata": {},
   "outputs": [
    {
     "data": {
      "text/plain": [
       "torch.float32"
      ]
     },
     "execution_count": 23,
     "metadata": {},
     "output_type": "execute_result"
    }
   ],
   "source": [
    "t.dtype"
   ]
  },
  {
   "cell_type": "code",
   "execution_count": 24,
   "metadata": {},
   "outputs": [
    {
     "data": {
      "text/plain": [
       "tensor([1., 2., 2.])"
      ]
     },
     "execution_count": 24,
     "metadata": {},
     "output_type": "execute_result"
    }
   ],
   "source": [
    "t.new_tensor([1,2,2])"
   ]
  },
  {
   "cell_type": "code",
   "execution_count": 26,
   "metadata": {},
   "outputs": [
    {
     "data": {
      "text/plain": [
       "tensor([[1.0653e-38, 4.2246e-39]])"
      ]
     },
     "execution_count": 26,
     "metadata": {},
     "output_type": "execute_result"
    }
   ],
   "source": [
    "t.new_empty(1,2)"
   ]
  },
  {
   "cell_type": "code",
   "execution_count": 30,
   "metadata": {},
   "outputs": [
    {
     "data": {
      "text/plain": [
       "tensor([[3., 3., 3.],\n",
       "        [3., 3., 3.]])"
      ]
     },
     "execution_count": 30,
     "metadata": {},
     "output_type": "execute_result"
    }
   ],
   "source": [
    "t.new_full(fill_value=3,size=(2,3))"
   ]
  },
  {
   "cell_type": "code",
   "execution_count": 31,
   "metadata": {},
   "outputs": [
    {
     "data": {
      "text/plain": [
       "tensor([[1., 1., 1., 1., 1., 1., 1., 1.]])"
      ]
     },
     "execution_count": 31,
     "metadata": {},
     "output_type": "execute_result"
    }
   ],
   "source": [
    "t.new_ones(1,8)"
   ]
  },
  {
   "cell_type": "markdown",
   "metadata": {},
   "source": [
    "### 存储位置"
   ]
  },
  {
   "cell_type": "code",
   "execution_count": 32,
   "metadata": {},
   "outputs": [
    {
     "data": {
      "text/plain": [
       "tensor([[-2.0899,  0.5384, -0.3834],\n",
       "        [-0.5706,  0.0804,  0.0353],\n",
       "        [ 1.5311,  0.5925,  0.3286]])"
      ]
     },
     "execution_count": 32,
     "metadata": {},
     "output_type": "execute_result"
    }
   ],
   "source": [
    "torch.randn(3,3, device=\"cpu\")"
   ]
  },
  {
   "cell_type": "code",
   "execution_count": 34,
   "metadata": {},
   "outputs": [
    {
     "data": {
      "text/plain": [
       "device(type='cpu')"
      ]
     },
     "execution_count": 34,
     "metadata": {},
     "output_type": "execute_result"
    }
   ],
   "source": [
    "torch.randn(3,3, device=\"cpu\").device"
   ]
  },
  {
   "cell_type": "code",
   "execution_count": 37,
   "metadata": {},
   "outputs": [
    {
     "data": {
      "text/plain": [
       "False"
      ]
     },
     "execution_count": 37,
     "metadata": {},
     "output_type": "execute_result"
    }
   ],
   "source": [
    "torch.cuda.is_available()"
   ]
  },
  {
   "cell_type": "code",
   "execution_count": 38,
   "metadata": {},
   "outputs": [],
   "source": [
    "# 获取在gpu0上面的tensor，转移到gpu1上，再转移到cpu上，再转移到gpu1上\n",
    "# torch.randn(3,3, device=\"cuda:0\").to(\"cuda:1\").cpu().cuda(1)"
   ]
  },
  {
   "cell_type": "markdown",
   "metadata": {},
   "source": [
    "### 维度"
   ]
  },
  {
   "cell_type": "code",
   "execution_count": 39,
   "metadata": {},
   "outputs": [],
   "source": [
    "t = torch.randn(3,4,5)"
   ]
  },
  {
   "cell_type": "code",
   "execution_count": 41,
   "metadata": {},
   "outputs": [
    {
     "data": {
      "text/plain": [
       "3"
      ]
     },
     "execution_count": 41,
     "metadata": {},
     "output_type": "execute_result"
    }
   ],
   "source": [
    "t.ndim"
   ]
  },
  {
   "cell_type": "code",
   "execution_count": 42,
   "metadata": {},
   "outputs": [
    {
     "data": {
      "text/plain": [
       "3"
      ]
     },
     "execution_count": 42,
     "metadata": {},
     "output_type": "execute_result"
    }
   ],
   "source": [
    "t.ndimension()"
   ]
  },
  {
   "cell_type": "code",
   "execution_count": 43,
   "metadata": {},
   "outputs": [
    {
     "data": {
      "text/plain": [
       "60"
      ]
     },
     "execution_count": 43,
     "metadata": {},
     "output_type": "execute_result"
    }
   ],
   "source": [
    "t.nelement()"
   ]
  },
  {
   "cell_type": "code",
   "execution_count": 44,
   "metadata": {},
   "outputs": [
    {
     "data": {
      "text/plain": [
       "torch.Size([3, 4, 5])"
      ]
     },
     "execution_count": 44,
     "metadata": {},
     "output_type": "execute_result"
    }
   ],
   "source": [
    "t.size()"
   ]
  },
  {
   "cell_type": "code",
   "execution_count": 45,
   "metadata": {},
   "outputs": [
    {
     "data": {
      "text/plain": [
       "torch.Size([3, 4, 5])"
      ]
     },
     "execution_count": 45,
     "metadata": {},
     "output_type": "execute_result"
    }
   ],
   "source": [
    "t.shape"
   ]
  },
  {
   "cell_type": "code",
   "execution_count": 46,
   "metadata": {},
   "outputs": [
    {
     "data": {
      "text/plain": [
       "3"
      ]
     },
     "execution_count": 46,
     "metadata": {},
     "output_type": "execute_result"
    }
   ],
   "source": [
    "t.size(0)"
   ]
  },
  {
   "cell_type": "code",
   "execution_count": 60,
   "metadata": {},
   "outputs": [],
   "source": [
    "t = torch.randn(3,4)"
   ]
  },
  {
   "cell_type": "code",
   "execution_count": 61,
   "metadata": {},
   "outputs": [
    {
     "data": {
      "text/plain": [
       "tensor([[ 2.1018,  0.1819, -0.5815],\n",
       "        [-1.3960,  1.1457,  1.7289],\n",
       "        [-0.9213, -1.7655,  0.0981],\n",
       "        [-0.2458,  0.9089,  1.3329]])"
      ]
     },
     "execution_count": 61,
     "metadata": {},
     "output_type": "execute_result"
    }
   ],
   "source": [
    "t.view(4,3)"
   ]
  },
  {
   "cell_type": "code",
   "execution_count": 62,
   "metadata": {},
   "outputs": [
    {
     "data": {
      "text/plain": [
       "tensor([[ 2.1018,  0.1819, -0.5815, -1.3960],\n",
       "        [ 1.1457,  1.7289, -0.9213, -1.7655],\n",
       "        [ 0.0981, -0.2458,  0.9089,  1.3329]])"
      ]
     },
     "execution_count": 62,
     "metadata": {},
     "output_type": "execute_result"
    }
   ],
   "source": [
    "t"
   ]
  },
  {
   "cell_type": "code",
   "execution_count": 63,
   "metadata": {},
   "outputs": [
    {
     "data": {
      "text/plain": [
       "2027085993600"
      ]
     },
     "execution_count": 63,
     "metadata": {},
     "output_type": "execute_result"
    }
   ],
   "source": [
    "t.data_ptr()"
   ]
  },
  {
   "cell_type": "code",
   "execution_count": 64,
   "metadata": {},
   "outputs": [
    {
     "data": {
      "text/plain": [
       "2027085993600"
      ]
     },
     "execution_count": 64,
     "metadata": {},
     "output_type": "execute_result"
    }
   ],
   "source": [
    "t.view(4,3).data_ptr()"
   ]
  },
  {
   "cell_type": "code",
   "execution_count": 65,
   "metadata": {},
   "outputs": [
    {
     "data": {
      "text/plain": [
       "tensor([[ 2.1018,  1.1457,  0.0981],\n",
       "        [ 0.1819,  1.7289, -0.2458],\n",
       "        [-0.5815, -0.9213,  0.9089],\n",
       "        [-1.3960, -1.7655,  1.3329]])"
      ]
     },
     "execution_count": 65,
     "metadata": {},
     "output_type": "execute_result"
    }
   ],
   "source": [
    "t.transpose(0,1)"
   ]
  },
  {
   "cell_type": "code",
   "execution_count": 68,
   "metadata": {},
   "outputs": [],
   "source": [
    "t = torch.randn(1,2,3)"
   ]
  },
  {
   "cell_type": "code",
   "execution_count": 69,
   "metadata": {},
   "outputs": [
    {
     "data": {
      "text/plain": [
       "torch.Size([1, 3, 2])"
      ]
     },
     "execution_count": 69,
     "metadata": {},
     "output_type": "execute_result"
    }
   ],
   "source": [
    "t.transpose(1,2).shape"
   ]
  },
  {
   "cell_type": "code",
   "execution_count": 70,
   "metadata": {},
   "outputs": [
    {
     "data": {
      "text/plain": [
       "2027086350656"
      ]
     },
     "execution_count": 70,
     "metadata": {},
     "output_type": "execute_result"
    }
   ],
   "source": [
    "t.data_ptr()"
   ]
  },
  {
   "cell_type": "code",
   "execution_count": 71,
   "metadata": {},
   "outputs": [
    {
     "data": {
      "text/plain": [
       "2027086350656"
      ]
     },
     "execution_count": 71,
     "metadata": {},
     "output_type": "execute_result"
    }
   ],
   "source": [
    "t.view(3,2,1).data_ptr()"
   ]
  },
  {
   "cell_type": "code",
   "execution_count": 72,
   "metadata": {},
   "outputs": [
    {
     "data": {
      "text/plain": [
       "2027086350656"
      ]
     },
     "execution_count": 72,
     "metadata": {},
     "output_type": "execute_result"
    }
   ],
   "source": [
    "t.view(3,2,1).contiguous().data_ptr()"
   ]
  },
  {
   "cell_type": "code",
   "execution_count": 73,
   "metadata": {},
   "outputs": [
    {
     "data": {
      "text/plain": [
       "2027086338112"
      ]
     },
     "execution_count": 73,
     "metadata": {},
     "output_type": "execute_result"
    }
   ],
   "source": [
    "t.transpose(1,2).contiguous().data_ptr()"
   ]
  },
  {
   "cell_type": "code",
   "execution_count": 74,
   "metadata": {},
   "outputs": [],
   "source": [
    "t = torch.randn(3,4)"
   ]
  },
  {
   "cell_type": "code",
   "execution_count": 75,
   "metadata": {},
   "outputs": [
    {
     "data": {
      "text/plain": [
       "tensor([[ 0.0028,  1.2449, -0.6921,  0.9195],\n",
       "        [-1.2603, -1.5345, -0.2748,  0.1404],\n",
       "        [-0.6087,  0.9600,  0.0240, -0.7852]])"
      ]
     },
     "execution_count": 75,
     "metadata": {},
     "output_type": "execute_result"
    }
   ],
   "source": [
    "t"
   ]
  },
  {
   "cell_type": "code",
   "execution_count": 76,
   "metadata": {},
   "outputs": [
    {
     "data": {
      "text/plain": [
       "tensor([[ 0.0028,  1.2449, -0.6921],\n",
       "        [ 0.9195, -1.2603, -1.5345],\n",
       "        [-0.2748,  0.1404, -0.6087],\n",
       "        [ 0.9600,  0.0240, -0.7852]])"
      ]
     },
     "execution_count": 76,
     "metadata": {},
     "output_type": "execute_result"
    }
   ],
   "source": [
    "t.reshape(4,3)"
   ]
  },
  {
   "cell_type": "code",
   "execution_count": 77,
   "metadata": {},
   "outputs": [
    {
     "data": {
      "text/plain": [
       "tensor([[ 0.0028,  1.2449, -0.6921,  0.9195],\n",
       "        [-1.2603, -1.5345, -0.2748,  0.1404],\n",
       "        [-0.6087,  0.9600,  0.0240, -0.7852]])"
      ]
     },
     "execution_count": 77,
     "metadata": {},
     "output_type": "execute_result"
    }
   ],
   "source": [
    "t"
   ]
  },
  {
   "cell_type": "code",
   "execution_count": 78,
   "metadata": {},
   "outputs": [
    {
     "data": {
      "text/plain": [
       "tensor([[ 0.0028,  1.2449, -0.6921],\n",
       "        [ 0.9195, -1.2603, -1.5345],\n",
       "        [-0.2748,  0.1404, -0.6087],\n",
       "        [ 0.9600,  0.0240, -0.7852]])"
      ]
     },
     "execution_count": 78,
     "metadata": {},
     "output_type": "execute_result"
    }
   ],
   "source": [
    "t.view(4,3)"
   ]
  },
  {
   "cell_type": "code",
   "execution_count": 80,
   "metadata": {},
   "outputs": [
    {
     "data": {
      "text/plain": [
       "tensor([[ 0.0028, -1.2603, -0.6087],\n",
       "        [ 1.2449, -1.5345,  0.9600],\n",
       "        [-0.6921, -0.2748,  0.0240],\n",
       "        [ 0.9195,  0.1404, -0.7852]])"
      ]
     },
     "execution_count": 80,
     "metadata": {},
     "output_type": "execute_result"
    }
   ],
   "source": [
    "t.transpose(0,1)"
   ]
  },
  {
   "cell_type": "code",
   "execution_count": 81,
   "metadata": {},
   "outputs": [
    {
     "data": {
      "text/plain": [
       "tensor([[[[ 0.0028,  1.2449, -0.6921,  0.9195],\n",
       "          [-1.2603, -1.5345, -0.2748,  0.1404],\n",
       "          [-0.6087,  0.9600,  0.0240, -0.7852]]]])"
      ]
     },
     "execution_count": 81,
     "metadata": {},
     "output_type": "execute_result"
    }
   ],
   "source": [
    "t.view(1,1,3,4)"
   ]
  },
  {
   "cell_type": "markdown",
   "metadata": {},
   "source": [
    "### 极值和排序"
   ]
  },
  {
   "cell_type": "code",
   "execution_count": 82,
   "metadata": {},
   "outputs": [],
   "source": [
    "t = torch.randn(3,4)"
   ]
  },
  {
   "cell_type": "code",
   "execution_count": 83,
   "metadata": {},
   "outputs": [
    {
     "data": {
      "text/plain": [
       "tensor([[-1.5199,  0.3869, -0.7682,  1.7626],\n",
       "        [-0.7702,  0.8939,  1.5519,  0.9935],\n",
       "        [ 0.2368,  0.4724,  1.1237, -0.9528]])"
      ]
     },
     "execution_count": 83,
     "metadata": {},
     "output_type": "execute_result"
    }
   ],
   "source": [
    "t"
   ]
  },
  {
   "cell_type": "code",
   "execution_count": 84,
   "metadata": {},
   "outputs": [
    {
     "data": {
      "text/plain": [
       "tensor([2, 1, 1, 0])"
      ]
     },
     "execution_count": 84,
     "metadata": {},
     "output_type": "execute_result"
    }
   ],
   "source": [
    "torch.argmax(t, 0)"
   ]
  },
  {
   "cell_type": "code",
   "execution_count": 85,
   "metadata": {},
   "outputs": [
    {
     "data": {
      "text/plain": [
       "tensor([3, 2, 2])"
      ]
     },
     "execution_count": 85,
     "metadata": {},
     "output_type": "execute_result"
    }
   ],
   "source": [
    "torch.argmax(t, 1)"
   ]
  },
  {
   "cell_type": "code",
   "execution_count": 86,
   "metadata": {},
   "outputs": [
    {
     "data": {
      "text/plain": [
       "torch.return_types.max(\n",
       "values=tensor([1.7626, 1.5519, 1.1237]),\n",
       "indices=tensor([3, 2, 2]))"
      ]
     },
     "execution_count": 86,
     "metadata": {},
     "output_type": "execute_result"
    }
   ],
   "source": [
    "torch.max(t, 1)"
   ]
  },
  {
   "cell_type": "code",
   "execution_count": 87,
   "metadata": {},
   "outputs": [
    {
     "data": {
      "text/plain": [
       "torch.return_types.sort(\n",
       "values=tensor([[-1.5199,  0.3869, -0.7682, -0.9528],\n",
       "        [-0.7702,  0.4724,  1.1237,  0.9935],\n",
       "        [ 0.2368,  0.8939,  1.5519,  1.7626]]),\n",
       "indices=tensor([[0, 0, 0, 2],\n",
       "        [1, 2, 2, 1],\n",
       "        [2, 1, 1, 0]]))"
      ]
     },
     "execution_count": 87,
     "metadata": {},
     "output_type": "execute_result"
    }
   ],
   "source": [
    "torch.sort(t, 0)"
   ]
  },
  {
   "cell_type": "markdown",
   "metadata": {},
   "source": [
    "### 乘法"
   ]
  },
  {
   "cell_type": "code",
   "execution_count": 88,
   "metadata": {},
   "outputs": [],
   "source": [
    "a = torch.randn(3,4)\n",
    "b = torch.randn(4,4)"
   ]
  },
  {
   "cell_type": "code",
   "execution_count": 89,
   "metadata": {},
   "outputs": [
    {
     "data": {
      "text/plain": [
       "tensor([[ 1.0501,  1.5641, -2.6793,  1.5773],\n",
       "        [ 3.1999,  0.1487,  1.6763, -0.9918],\n",
       "        [-1.1053,  1.2629, -2.0452,  0.9746]])"
      ]
     },
     "execution_count": 89,
     "metadata": {},
     "output_type": "execute_result"
    }
   ],
   "source": [
    "torch.mm(a, b)"
   ]
  },
  {
   "cell_type": "code",
   "execution_count": 90,
   "metadata": {},
   "outputs": [
    {
     "data": {
      "text/plain": [
       "tensor([[ 1.0501,  1.5641, -2.6793,  1.5773],\n",
       "        [ 3.1999,  0.1487,  1.6763, -0.9918],\n",
       "        [-1.1053,  1.2629, -2.0452,  0.9746]])"
      ]
     },
     "execution_count": 90,
     "metadata": {},
     "output_type": "execute_result"
    }
   ],
   "source": [
    "a.mm(b)"
   ]
  },
  {
   "cell_type": "code",
   "execution_count": 91,
   "metadata": {},
   "outputs": [],
   "source": [
    "a = torch.randn(2,3,4)\n",
    "b = torch.randn(2,4,3)"
   ]
  },
  {
   "cell_type": "code",
   "execution_count": 92,
   "metadata": {},
   "outputs": [
    {
     "data": {
      "text/plain": [
       "tensor([[[-0.6277, -1.1672, -2.5727],\n",
       "         [-2.2468,  0.3890, -0.6197],\n",
       "         [ 2.7499, -2.8565, -1.0535]],\n",
       "\n",
       "        [[ 0.2665, -2.2412, -0.3084],\n",
       "         [-0.3166, -0.6235, -0.4589],\n",
       "         [ 1.3362, -0.3263, -0.8229]]])"
      ]
     },
     "execution_count": 92,
     "metadata": {},
     "output_type": "execute_result"
    }
   ],
   "source": [
    "a.bmm(b)"
   ]
  },
  {
   "cell_type": "code",
   "execution_count": 93,
   "metadata": {},
   "outputs": [
    {
     "data": {
      "text/plain": [
       "tensor([[[-0.6277, -1.1672, -2.5727],\n",
       "         [-2.2468,  0.3890, -0.6197],\n",
       "         [ 2.7499, -2.8565, -1.0535]],\n",
       "\n",
       "        [[ 0.2665, -2.2412, -0.3084],\n",
       "         [-0.3166, -0.6235, -0.4589],\n",
       "         [ 1.3362, -0.3263, -0.8229]]])"
      ]
     },
     "execution_count": 93,
     "metadata": {},
     "output_type": "execute_result"
    }
   ],
   "source": [
    "a@b"
   ]
  },
  {
   "cell_type": "markdown",
   "metadata": {},
   "source": [
    "### 拼接和分割"
   ]
  },
  {
   "cell_type": "code",
   "execution_count": 99,
   "metadata": {},
   "outputs": [
    {
     "data": {
      "text/plain": [
       "(tensor([[ 0.7001, -0.6315, -0.4288,  0.2750],\n",
       "         [ 1.8299,  1.0479, -0.5071, -0.3226],\n",
       "         [ 0.3497,  0.1910,  0.2140,  0.8107]]),\n",
       " tensor([[-2.0882,  2.4084, -1.1954,  0.8950],\n",
       "         [ 0.6763, -1.3862,  0.7106,  0.1877],\n",
       "         [-0.1359, -0.3602,  0.3628,  0.4087]]),\n",
       " tensor([[ 2.0506, -1.3421,  1.0903,  0.1578],\n",
       "         [-1.9725,  0.3191, -0.0748,  1.5114],\n",
       "         [ 0.5866, -0.1320, -0.6615,  0.1279]]),\n",
       " tensor([[ 0.3596, -0.6702,  0.2830],\n",
       "         [-1.5989, -0.2411,  1.3739],\n",
       "         [-1.9172,  0.2543, -1.3786]]))"
      ]
     },
     "execution_count": 99,
     "metadata": {},
     "output_type": "execute_result"
    }
   ],
   "source": [
    "t1 = torch.randn(3,4)\n",
    "t2 = torch.randn(3,4)\n",
    "t3 = torch.randn(3,4)\n",
    "t4 = torch.randn(3,3)\n",
    "\n",
    "t1,t2,t3,t4"
   ]
  },
  {
   "cell_type": "code",
   "execution_count": 101,
   "metadata": {},
   "outputs": [
    {
     "data": {
      "text/plain": [
       "tensor([[[ 0.7001, -0.6315, -0.4288,  0.2750],\n",
       "         [ 1.8299,  1.0479, -0.5071, -0.3226],\n",
       "         [ 0.3497,  0.1910,  0.2140,  0.8107]],\n",
       "\n",
       "        [[-2.0882,  2.4084, -1.1954,  0.8950],\n",
       "         [ 0.6763, -1.3862,  0.7106,  0.1877],\n",
       "         [-0.1359, -0.3602,  0.3628,  0.4087]],\n",
       "\n",
       "        [[ 2.0506, -1.3421,  1.0903,  0.1578],\n",
       "         [-1.9725,  0.3191, -0.0748,  1.5114],\n",
       "         [ 0.5866, -0.1320, -0.6615,  0.1279]]])"
      ]
     },
     "execution_count": 101,
     "metadata": {},
     "output_type": "execute_result"
    }
   ],
   "source": [
    "torch.stack([t1,t2,t3])"
   ]
  },
  {
   "cell_type": "code",
   "execution_count": 102,
   "metadata": {},
   "outputs": [
    {
     "data": {
      "text/plain": [
       "tensor([[[ 0.7001, -2.0882,  2.0506],\n",
       "         [-0.6315,  2.4084, -1.3421],\n",
       "         [-0.4288, -1.1954,  1.0903],\n",
       "         [ 0.2750,  0.8950,  0.1578]],\n",
       "\n",
       "        [[ 1.8299,  0.6763, -1.9725],\n",
       "         [ 1.0479, -1.3862,  0.3191],\n",
       "         [-0.5071,  0.7106, -0.0748],\n",
       "         [-0.3226,  0.1877,  1.5114]],\n",
       "\n",
       "        [[ 0.3497, -0.1359,  0.5866],\n",
       "         [ 0.1910, -0.3602, -0.1320],\n",
       "         [ 0.2140,  0.3628, -0.6615],\n",
       "         [ 0.8107,  0.4087,  0.1279]]])"
      ]
     },
     "execution_count": 102,
     "metadata": {},
     "output_type": "execute_result"
    }
   ],
   "source": [
    "torch.stack([t1,t2,t3], -1)"
   ]
  },
  {
   "cell_type": "code",
   "execution_count": 103,
   "metadata": {},
   "outputs": [
    {
     "data": {
      "text/plain": [
       "tensor([[[ 0.7001, -0.6315, -0.4288,  0.2750],\n",
       "         [-2.0882,  2.4084, -1.1954,  0.8950],\n",
       "         [ 2.0506, -1.3421,  1.0903,  0.1578]],\n",
       "\n",
       "        [[ 1.8299,  1.0479, -0.5071, -0.3226],\n",
       "         [ 0.6763, -1.3862,  0.7106,  0.1877],\n",
       "         [-1.9725,  0.3191, -0.0748,  1.5114]],\n",
       "\n",
       "        [[ 0.3497,  0.1910,  0.2140,  0.8107],\n",
       "         [-0.1359, -0.3602,  0.3628,  0.4087],\n",
       "         [ 0.5866, -0.1320, -0.6615,  0.1279]]])"
      ]
     },
     "execution_count": 103,
     "metadata": {},
     "output_type": "execute_result"
    }
   ],
   "source": [
    "torch.stack([t1,t2,t3], 1)"
   ]
  },
  {
   "cell_type": "markdown",
   "metadata": {},
   "source": [
    "stack 指的是要拼接的原始的子tensor中的维度，将这些子tensor对应维度的值取出来，拼接到新的tensor中"
   ]
  },
  {
   "cell_type": "code",
   "execution_count": 104,
   "metadata": {},
   "outputs": [
    {
     "data": {
      "text/plain": [
       "tensor([[ 0.7001, -0.6315, -0.4288,  0.2750],\n",
       "        [ 1.8299,  1.0479, -0.5071, -0.3226],\n",
       "        [ 0.3497,  0.1910,  0.2140,  0.8107],\n",
       "        [-2.0882,  2.4084, -1.1954,  0.8950],\n",
       "        [ 0.6763, -1.3862,  0.7106,  0.1877],\n",
       "        [-0.1359, -0.3602,  0.3628,  0.4087],\n",
       "        [ 2.0506, -1.3421,  1.0903,  0.1578],\n",
       "        [-1.9725,  0.3191, -0.0748,  1.5114],\n",
       "        [ 0.5866, -0.1320, -0.6615,  0.1279]])"
      ]
     },
     "execution_count": 104,
     "metadata": {},
     "output_type": "execute_result"
    }
   ],
   "source": [
    "torch.cat([t1,t2,t3])"
   ]
  },
  {
   "cell_type": "code",
   "execution_count": 105,
   "metadata": {},
   "outputs": [
    {
     "data": {
      "text/plain": [
       "tensor([[ 0.7001, -0.6315, -0.4288,  0.2750, -2.0882,  2.4084, -1.1954,  0.8950,\n",
       "          2.0506, -1.3421,  1.0903,  0.1578],\n",
       "        [ 1.8299,  1.0479, -0.5071, -0.3226,  0.6763, -1.3862,  0.7106,  0.1877,\n",
       "         -1.9725,  0.3191, -0.0748,  1.5114],\n",
       "        [ 0.3497,  0.1910,  0.2140,  0.8107, -0.1359, -0.3602,  0.3628,  0.4087,\n",
       "          0.5866, -0.1320, -0.6615,  0.1279]])"
      ]
     },
     "execution_count": 105,
     "metadata": {},
     "output_type": "execute_result"
    }
   ],
   "source": [
    "torch.cat([t1,t2,t3], dim=1)"
   ]
  },
  {
   "cell_type": "code",
   "execution_count": 106,
   "metadata": {},
   "outputs": [],
   "source": [
    "t1 = torch.randn(3,12)"
   ]
  },
  {
   "cell_type": "code",
   "execution_count": 107,
   "metadata": {},
   "outputs": [
    {
     "data": {
      "text/plain": [
       "(tensor([[ 0.0666, -2.1999, -1.2847, -1.1800],\n",
       "         [-3.4401, -1.6972, -1.0236, -0.3353],\n",
       "         [-0.8535,  1.4430,  0.0141,  1.2620]]),\n",
       " tensor([[-1.7920, -0.6809, -0.0189,  2.1369],\n",
       "         [ 0.0476, -0.8315, -1.3015,  2.4054],\n",
       "         [-0.0769,  0.4974, -0.5468, -1.1677]]),\n",
       " tensor([[-1.1824,  0.7116, -1.1257, -0.5178],\n",
       "         [ 0.6180,  0.5960,  0.4748, -0.7742],\n",
       "         [ 1.1620, -0.4613,  0.7109, -1.6746]]))"
      ]
     },
     "execution_count": 107,
     "metadata": {},
     "output_type": "execute_result"
    }
   ],
   "source": [
    "torch.chunk(t1, 3, -1)"
   ]
  },
  {
   "cell_type": "markdown",
   "metadata": {},
   "source": [
    "### 维度变化"
   ]
  },
  {
   "cell_type": "code",
   "execution_count": 108,
   "metadata": {},
   "outputs": [],
   "source": [
    "t = torch.randn(3,4)"
   ]
  },
  {
   "cell_type": "code",
   "execution_count": 112,
   "metadata": {},
   "outputs": [
    {
     "data": {
      "text/plain": [
       "(tensor([[-0.8433,  0.6941,  0.2301, -0.9674],\n",
       "         [ 0.1531, -1.3546,  0.0582, -0.0682],\n",
       "         [-0.3375, -0.1276, -0.7241,  1.9731]]), torch.Size([3, 4]))"
      ]
     },
     "execution_count": 112,
     "metadata": {},
     "output_type": "execute_result"
    }
   ],
   "source": [
    "t,t.shape"
   ]
  },
  {
   "cell_type": "code",
   "execution_count": 113,
   "metadata": {},
   "outputs": [
    {
     "data": {
      "text/plain": [
       "(tensor([[[-0.8433],\n",
       "          [ 0.6941],\n",
       "          [ 0.2301],\n",
       "          [-0.9674]],\n",
       " \n",
       "         [[ 0.1531],\n",
       "          [-1.3546],\n",
       "          [ 0.0582],\n",
       "          [-0.0682]],\n",
       " \n",
       "         [[-0.3375],\n",
       "          [-0.1276],\n",
       "          [-0.7241],\n",
       "          [ 1.9731]]]), torch.Size([3, 4, 1]))"
      ]
     },
     "execution_count": 113,
     "metadata": {},
     "output_type": "execute_result"
    }
   ],
   "source": [
    "t1 = t.unsqueeze(-1)\n",
    "t1, t1.shape"
   ]
  },
  {
   "cell_type": "code",
   "execution_count": 114,
   "metadata": {},
   "outputs": [
    {
     "data": {
      "text/plain": [
       "(tensor([[[-0.8433,  0.6941,  0.2301, -0.9674],\n",
       "          [ 0.1531, -1.3546,  0.0582, -0.0682],\n",
       "          [-0.3375, -0.1276, -0.7241,  1.9731]]]), torch.Size([1, 3, 4]))"
      ]
     },
     "execution_count": 114,
     "metadata": {},
     "output_type": "execute_result"
    }
   ],
   "source": [
    "t1 = t.unsqueeze(0)\n",
    "t1, t1.shape"
   ]
  },
  {
   "cell_type": "code",
   "execution_count": 115,
   "metadata": {},
   "outputs": [
    {
     "data": {
      "text/plain": [
       "(tensor([[[-0.8433,  0.6941,  0.2301, -0.9674]],\n",
       " \n",
       "         [[ 0.1531, -1.3546,  0.0582, -0.0682]],\n",
       " \n",
       "         [[-0.3375, -0.1276, -0.7241,  1.9731]]]), torch.Size([3, 1, 4]))"
      ]
     },
     "execution_count": 115,
     "metadata": {},
     "output_type": "execute_result"
    }
   ],
   "source": [
    "t1 = t.unsqueeze(1)\n",
    "t1, t1.shape"
   ]
  },
  {
   "cell_type": "code",
   "execution_count": 116,
   "metadata": {},
   "outputs": [
    {
     "data": {
      "text/plain": [
       "(tensor([[[[0.7479],\n",
       "           [0.2319],\n",
       "           [0.8628],\n",
       "           [0.1753]],\n",
       " \n",
       "          [[0.3255],\n",
       "           [0.3460],\n",
       "           [0.9846],\n",
       "           [0.0706]],\n",
       " \n",
       "          [[0.9358],\n",
       "           [0.2218],\n",
       "           [0.1403],\n",
       "           [0.5828]]]]), torch.Size([1, 3, 4, 1]))"
      ]
     },
     "execution_count": 116,
     "metadata": {},
     "output_type": "execute_result"
    }
   ],
   "source": [
    "t = torch.rand(1,3,4,1)\n",
    "t, t.shape"
   ]
  },
  {
   "cell_type": "code",
   "execution_count": 117,
   "metadata": {},
   "outputs": [
    {
     "data": {
      "text/plain": [
       "(tensor([[0.7479, 0.2319, 0.8628, 0.1753],\n",
       "         [0.3255, 0.3460, 0.9846, 0.0706],\n",
       "         [0.9358, 0.2218, 0.1403, 0.5828]]), torch.Size([3, 4]))"
      ]
     },
     "execution_count": 117,
     "metadata": {},
     "output_type": "execute_result"
    }
   ],
   "source": [
    "t1 = t.squeeze()\n",
    "t1, t1.shape"
   ]
  },
  {
   "cell_type": "code",
   "execution_count": null,
   "metadata": {},
   "outputs": [],
   "source": []
  }
 ],
 "metadata": {
  "kernelspec": {
   "display_name": "Python 3",
   "language": "python",
   "name": "python3"
  },
  "language_info": {
   "codemirror_mode": {
    "name": "ipython",
    "version": 3
   },
   "file_extension": ".py",
   "mimetype": "text/x-python",
   "name": "python",
   "nbconvert_exporter": "python",
   "pygments_lexer": "ipython3",
   "version": "3.6.5"
  }
 },
 "nbformat": 4,
 "nbformat_minor": 2
}
